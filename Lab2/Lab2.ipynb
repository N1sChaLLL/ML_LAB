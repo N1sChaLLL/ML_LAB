{
 "cells": [
  {
   "cell_type": "code",
   "execution_count": 6,
   "id": "40afed2e-7355-4cc9-bf05-f2acd38c5f9f",
   "metadata": {},
   "outputs": [
    {
     "name": "stdout",
     "output_type": "stream",
     "text": [
      "   Candies (#)  Mangoes (Kg)  Milk Packets (#)  Payment (Rs)\n",
      "0           20             6                 2           386\n",
      "1           16             3                 6           289\n",
      "2           27             6                 2           393\n",
      "3           19             1                 2           110\n",
      "4           24             4                 2           280\n"
     ]
    }
   ],
   "source": [
    "import pandas as pd\n",
    "df = pd.read_excel('Lab Session Data.xlsx', usecols=[1,2,3,4])\n",
    "print(df.head())\n"
   ]
  },
  {
   "cell_type": "code",
   "execution_count": 8,
   "id": "ccdb046b-eea8-44e2-86f0-99f49f1a1d0a",
   "metadata": {},
   "outputs": [
    {
     "name": "stdout",
     "output_type": "stream",
     "text": [
      "The dimension of the table is:  (10, 4)\n"
     ]
    }
   ],
   "source": [
    "print(\"The dimension of the table is: \",df.shape)"
   ]
  },
  {
   "cell_type": "code",
   "execution_count": 12,
   "id": "c95463f2-705d-4e70-abc7-28894097b8a1",
   "metadata": {},
   "outputs": [
    {
     "name": "stdout",
     "output_type": "stream",
     "text": [
      "The rank of the matrix is : 3\n"
     ]
    }
   ],
   "source": [
    "#Finding the rank of the matrix \n",
    "print(\"The rank of the matrix is :\",np.linalg.matrix_rank(df))"
   ]
  },
  {
   "cell_type": "code",
   "execution_count": 13,
   "id": "b3cc406f-8e97-4a18-ab7e-64ca037e03e6",
   "metadata": {},
   "outputs": [
    {
     "name": "stdout",
     "output_type": "stream",
     "text": [
      "[[-0.01158602 -0.03328061  0.00992701  0.0309081   0.01893411  0.01257157\n",
      "  -0.00872551  0.00049436  0.01868374 -0.00579619]\n",
      " [ 0.00809324 -0.03931864  0.02004214  0.01022259  0.01645572 -0.01682076\n",
      "   0.00109285  0.00621381 -0.00780631 -0.0171085 ]\n",
      " [-0.02400235  0.12210231 -0.06177958 -0.03305478 -0.05136901  0.05064536\n",
      "  -0.00279828 -0.01898852  0.02274531  0.05261889]\n",
      " [ 0.00150006  0.00203556  0.00021249 -0.0018353  -0.00064341 -0.00095362\n",
      "   0.00101203  0.00046022 -0.00124752  0.00037604]]\n"
     ]
    }
   ],
   "source": [
    "#Using psuedo-inverse to find the price of each product\n",
    "print(np.linalg.pinv(df))"
   ]
  },
  {
   "cell_type": "code",
   "execution_count": 3,
   "id": "58eb0168-62ac-42da-9178-034ae31b3234",
   "metadata": {},
   "outputs": [
    {
     "data": {
      "text/html": [
       "<div>\n",
       "<style scoped>\n",
       "    .dataframe tbody tr th:only-of-type {\n",
       "        vertical-align: middle;\n",
       "    }\n",
       "\n",
       "    .dataframe tbody tr th {\n",
       "        vertical-align: top;\n",
       "    }\n",
       "\n",
       "    .dataframe thead th {\n",
       "        text-align: right;\n",
       "    }\n",
       "</style>\n",
       "<table border=\"1\" class=\"dataframe\">\n",
       "  <thead>\n",
       "    <tr style=\"text-align: right;\">\n",
       "      <th></th>\n",
       "      <th>Customer</th>\n",
       "      <th>Candies (#)</th>\n",
       "      <th>Mangoes (Kg)</th>\n",
       "      <th>Milk Packets (#)</th>\n",
       "      <th>Payment (Rs)</th>\n",
       "      <th>Unnamed: 5</th>\n",
       "      <th>Unnamed: 6</th>\n",
       "      <th>Unnamed: 7</th>\n",
       "      <th>Unnamed: 8</th>\n",
       "      <th>Unnamed: 9</th>\n",
       "      <th>...</th>\n",
       "      <th>Unnamed: 13</th>\n",
       "      <th>Unnamed: 14</th>\n",
       "      <th>Unnamed: 15</th>\n",
       "      <th>Unnamed: 16</th>\n",
       "      <th>Unnamed: 17</th>\n",
       "      <th>Unnamed: 18</th>\n",
       "      <th>Candy</th>\n",
       "      <th>Mango</th>\n",
       "      <th>Milk</th>\n",
       "      <th>Status</th>\n",
       "    </tr>\n",
       "  </thead>\n",
       "  <tbody>\n",
       "    <tr>\n",
       "      <th>0</th>\n",
       "      <td>C_1</td>\n",
       "      <td>20</td>\n",
       "      <td>6</td>\n",
       "      <td>2</td>\n",
       "      <td>386</td>\n",
       "      <td>NaN</td>\n",
       "      <td>NaN</td>\n",
       "      <td>NaN</td>\n",
       "      <td>NaN</td>\n",
       "      <td>NaN</td>\n",
       "      <td>...</td>\n",
       "      <td>NaN</td>\n",
       "      <td>NaN</td>\n",
       "      <td>NaN</td>\n",
       "      <td>NaN</td>\n",
       "      <td>NaN</td>\n",
       "      <td>NaN</td>\n",
       "      <td>1.0</td>\n",
       "      <td>55.0</td>\n",
       "      <td>18.0</td>\n",
       "      <td>RICH</td>\n",
       "    </tr>\n",
       "    <tr>\n",
       "      <th>1</th>\n",
       "      <td>C_2</td>\n",
       "      <td>16</td>\n",
       "      <td>3</td>\n",
       "      <td>6</td>\n",
       "      <td>289</td>\n",
       "      <td>NaN</td>\n",
       "      <td>NaN</td>\n",
       "      <td>NaN</td>\n",
       "      <td>NaN</td>\n",
       "      <td>NaN</td>\n",
       "      <td>...</td>\n",
       "      <td>NaN</td>\n",
       "      <td>NaN</td>\n",
       "      <td>NaN</td>\n",
       "      <td>NaN</td>\n",
       "      <td>NaN</td>\n",
       "      <td>NaN</td>\n",
       "      <td>NaN</td>\n",
       "      <td>NaN</td>\n",
       "      <td>NaN</td>\n",
       "      <td>RICH</td>\n",
       "    </tr>\n",
       "    <tr>\n",
       "      <th>2</th>\n",
       "      <td>C_3</td>\n",
       "      <td>27</td>\n",
       "      <td>6</td>\n",
       "      <td>2</td>\n",
       "      <td>393</td>\n",
       "      <td>NaN</td>\n",
       "      <td>NaN</td>\n",
       "      <td>NaN</td>\n",
       "      <td>NaN</td>\n",
       "      <td>NaN</td>\n",
       "      <td>...</td>\n",
       "      <td>NaN</td>\n",
       "      <td>NaN</td>\n",
       "      <td>NaN</td>\n",
       "      <td>NaN</td>\n",
       "      <td>NaN</td>\n",
       "      <td>NaN</td>\n",
       "      <td>NaN</td>\n",
       "      <td>NaN</td>\n",
       "      <td>NaN</td>\n",
       "      <td>RICH</td>\n",
       "    </tr>\n",
       "    <tr>\n",
       "      <th>3</th>\n",
       "      <td>C_4</td>\n",
       "      <td>19</td>\n",
       "      <td>1</td>\n",
       "      <td>2</td>\n",
       "      <td>110</td>\n",
       "      <td>NaN</td>\n",
       "      <td>NaN</td>\n",
       "      <td>NaN</td>\n",
       "      <td>NaN</td>\n",
       "      <td>NaN</td>\n",
       "      <td>...</td>\n",
       "      <td>NaN</td>\n",
       "      <td>NaN</td>\n",
       "      <td>NaN</td>\n",
       "      <td>NaN</td>\n",
       "      <td>NaN</td>\n",
       "      <td>NaN</td>\n",
       "      <td>NaN</td>\n",
       "      <td>NaN</td>\n",
       "      <td>NaN</td>\n",
       "      <td>POOR</td>\n",
       "    </tr>\n",
       "    <tr>\n",
       "      <th>4</th>\n",
       "      <td>C_5</td>\n",
       "      <td>24</td>\n",
       "      <td>4</td>\n",
       "      <td>2</td>\n",
       "      <td>280</td>\n",
       "      <td>NaN</td>\n",
       "      <td>NaN</td>\n",
       "      <td>NaN</td>\n",
       "      <td>NaN</td>\n",
       "      <td>NaN</td>\n",
       "      <td>...</td>\n",
       "      <td>NaN</td>\n",
       "      <td>NaN</td>\n",
       "      <td>NaN</td>\n",
       "      <td>NaN</td>\n",
       "      <td>NaN</td>\n",
       "      <td>NaN</td>\n",
       "      <td>NaN</td>\n",
       "      <td>NaN</td>\n",
       "      <td>NaN</td>\n",
       "      <td>RICH</td>\n",
       "    </tr>\n",
       "  </tbody>\n",
       "</table>\n",
       "<p>5 rows × 23 columns</p>\n",
       "</div>"
      ],
      "text/plain": [
       "  Customer  Candies (#)  Mangoes (Kg)  Milk Packets (#)  Payment (Rs)  \\\n",
       "0      C_1           20             6                 2           386   \n",
       "1      C_2           16             3                 6           289   \n",
       "2      C_3           27             6                 2           393   \n",
       "3      C_4           19             1                 2           110   \n",
       "4      C_5           24             4                 2           280   \n",
       "\n",
       "   Unnamed: 5  Unnamed: 6  Unnamed: 7  Unnamed: 8  Unnamed: 9  ...  \\\n",
       "0         NaN         NaN         NaN         NaN         NaN  ...   \n",
       "1         NaN         NaN         NaN         NaN         NaN  ...   \n",
       "2         NaN         NaN         NaN         NaN         NaN  ...   \n",
       "3         NaN         NaN         NaN         NaN         NaN  ...   \n",
       "4         NaN         NaN         NaN         NaN         NaN  ...   \n",
       "\n",
       "   Unnamed: 13  Unnamed: 14  Unnamed: 15  Unnamed: 16  Unnamed: 17  \\\n",
       "0          NaN          NaN          NaN          NaN          NaN   \n",
       "1          NaN          NaN          NaN          NaN          NaN   \n",
       "2          NaN          NaN          NaN          NaN          NaN   \n",
       "3          NaN          NaN          NaN          NaN          NaN   \n",
       "4          NaN          NaN          NaN          NaN          NaN   \n",
       "\n",
       "   Unnamed: 18  Candy  Mango  Milk  Status  \n",
       "0          NaN    1.0   55.0  18.0    RICH  \n",
       "1          NaN    NaN    NaN   NaN    RICH  \n",
       "2          NaN    NaN    NaN   NaN    RICH  \n",
       "3          NaN    NaN    NaN   NaN    POOR  \n",
       "4          NaN    NaN    NaN   NaN    RICH  \n",
       "\n",
       "[5 rows x 23 columns]"
      ]
     },
     "execution_count": 3,
     "metadata": {},
     "output_type": "execute_result"
    }
   ],
   "source": [
    "#mark customers Q3\n",
    "import pandas as pd\n",
    "myexcel = pd.read_excel('Lab Session Data.xlsx')\n",
    "myexcel['Status'] = myexcel['Payment (Rs)'].apply(lambda x: \"RICH\" if x > 200 else \"POOR\")\n",
    "myexcel.head()"
   ]
  },
  {
   "cell_type": "code",
   "execution_count": 5,
   "id": "4442ecae",
   "metadata": {},
   "outputs": [
    {
     "name": "stdout",
     "output_type": "stream",
     "text": [
      "1560.663453815261\n",
      "58732.365352539186\n"
     ]
    }
   ],
   "source": [
    "#irctc mean and variance\n",
    "import pandas as pd\n",
    "import statistics as st\n",
    "irctc = pd.read_excel('Lab Session Data.xlsx',sheet_name ='IRCTC Stock Price')\n",
    "irctc.head()\n",
    "mean = st.mean(irctc['Price'])\n",
    "print(mean)\n",
    "var = st.variance(irctc['Price'])\n",
    "print(var)"
   ]
  },
  {
   "cell_type": "code",
   "execution_count": 8,
   "id": "b13411f9",
   "metadata": {},
   "outputs": [
    {
     "name": "stdout",
     "output_type": "stream",
     "text": [
      "The wednesday average is  1550.706\n",
      "The wednesday variance is  57939.550167346926\n",
      "The population mean is  1560.663453815261\n",
      "The population variation is 58732.365352539186\n"
     ]
    }
   ],
   "source": [
    "#Q4 Wednesday Statisitics\n",
    "import numpy as np\n",
    "import pandas as pd\n",
    "import matplotlib.pyplot as plt\n",
    "import seaborn as sns\n",
    "import statistics as st\n",
    "irctcdf = pd.read_excel(\"Lab Session Data.xlsx\",sheet_name='IRCTC Stock Price')\n",
    "irctcdf.head()\n",
    "df1 = irctcdf.query(\"(Day == 'Wed')\")\n",
    "# newwedavg = df1['Price'].sum()/len(df1)\n",
    "newwedavg = st.mean(df1['Price'])\n",
    "newwedvar = st.variance(df1['Price'])\n",
    "print(\"The wednesday average is \",newwedavg)\n",
    "print(\"The wednesday variance is \",newwedvar)\n",
    "print(\"The population mean is \",mean)\n",
    "print(\"The population variation is\",var)"
   ]
  },
  {
   "cell_type": "code",
   "execution_count": 9,
   "id": "96f83299",
   "metadata": {},
   "outputs": [
    {
     "name": "stdout",
     "output_type": "stream",
     "text": [
      "The april mean is  1698.9526315789474\n",
      "The april variance is  4877.621798245614\n",
      "The population mean is  1560.663453815261\n",
      "The population variation is 58732.365352539186\n"
     ]
    }
   ],
   "source": [
    "import numpy as np\n",
    "import pandas as pd\n",
    "import matplotlib.pyplot as plt\n",
    "import seaborn as sns\n",
    "import statistics as st\n",
    "#April Mean and statisitics\n",
    "aprildf = irctcdf.query(\"(Month == 'Apr')\")\n",
    "aprilmean = st.mean(aprildf['Price'])\n",
    "print(\"The april mean is \",aprilmean)\n",
    "aprilvar = st.variance(aprildf['Price'])\n",
    "print(\"The april variance is \",aprilvar)\n",
    "print(\"The population mean is \",mean)\n",
    "print(\"The population variation is\",var)\n"
   ]
  },
  {
   "cell_type": "code",
   "execution_count": 10,
   "id": "ffa87bfb",
   "metadata": {},
   "outputs": [
    {
     "name": "stdout",
     "output_type": "stream",
     "text": [
      "49.79919678714859 % Is the probability of loss\n"
     ]
    }
   ],
   "source": [
    "import numpy as np\n",
    "import pandas as pd\n",
    "import matplotlib.pyplot as plt\n",
    "import seaborn as sns\n",
    "import statistics as st\n",
    "lossdf = irctc['Chg%']\n",
    "loss = 0\n",
    "profit = 0\n",
    "for i in range(len(lossdf)):\n",
    "  if(lossdf.loc[i]<0):\n",
    "    loss+=1\n",
    "  else:\n",
    "    profit+=1\n",
    "probability_loss = loss/(profit + loss)\n",
    "print(probability_loss*100,\"% Is the probability of loss\")"
   ]
  },
  {
   "cell_type": "code",
   "execution_count": 11,
   "id": "fb7dc4f8",
   "metadata": {},
   "outputs": [
    {
     "name": "stdout",
     "output_type": "stream",
     "text": [
      "42.0 % Is the probability of profit on wednesday\n"
     ]
    }
   ],
   "source": [
    "import numpy as np\n",
    "import pandas as pd\n",
    "import matplotlib.pyplot as plt\n",
    "import seaborn as sns\n",
    "import statistics as st\n",
    "wedprof = df1['Chg%']\n",
    "prof=0\n",
    "loss=0\n",
    "for i in range(len(wedprof)):\n",
    "  if(wedprof.iloc[i]>0):\n",
    "    prof+=1\n",
    "  else:\n",
    "    loss+=1\n",
    "probability_prof = prof/(prof + loss)\n",
    "print(probability_prof*100,\"% Is the probability of profit on wednesday\")\n"
   ]
  },
  {
   "cell_type": "code",
   "execution_count": 12,
   "id": "3cbc3206",
   "metadata": {},
   "outputs": [
    {
     "name": "stdout",
     "output_type": "stream",
     "text": [
      "The conditional probability of making profit on wednesday is  0.08433734939759036\n"
     ]
    }
   ],
   "source": [
    "import numpy as np\n",
    "import pandas as pd\n",
    "import matplotlib.pyplot as plt\n",
    "import seaborn as sns\n",
    "import statistics as st\n",
    "#Conditional Probability \n",
    "numberofwed = irctcdf[\"Day\"]\n",
    "wed = 0\n",
    "for i in range(len(numberofwed)):\n",
    "  if(numberofwed.iloc[i]==\"Wed\"):\n",
    "    wed+=1\n",
    "prob_wed = wed/len(numberofwed)\n",
    "condprob = prob_wed * probability_prof\n",
    "print(\"The conditional probability of making profit on wednesday is \",condprob)"
   ]
  },
  {
   "cell_type": "code",
   "execution_count": 13,
   "id": "a8bda644",
   "metadata": {},
   "outputs": [
    {
     "data": {
      "image/png": "[encoded data removed]",
      "text/plain": [
       "<Figure size 640x480 with 1 Axes>"
      ]
     },
     "metadata": {},
     "output_type": "display_data"
    }
   ],
   "source": [
    "import numpy as np\n",
    "import pandas as pd\n",
    "import matplotlib.pyplot as plt\n",
    "import seaborn as sns\n",
    "import statistics as st\n",
    "weddata = irctc[['Day','Chg%']]\n",
    "plt.scatter(weddata['Day'],weddata['Chg%'])\n",
    "plt.xlabel(\"Day\")\n",
    "plt.ylabel(\"Chg%\")\n",
    "plt.show()"
   ]
  },
  {
   "cell_type": "code",
   "execution_count": null,
   "id": "3dbed914",
   "metadata": {},
   "outputs": [],
   "source": [
    "import numpy as np\n",
    "import pandas as pd\n",
    "import matplotlib.pyplot as plt\n",
    "import seaborn as sns\n",
    "import statistics as st"
   ]
  }
 ],
 "metadata": {
  "kernelspec": {
   "display_name": "Python 3 (ipykernel)",
   "language": "python",
   "name": "python3"
  },
  "language_info": {
   "codemirror_mode": {
    "name": "ipython",
    "version": 3
   },
   "file_extension": ".py",
   "mimetype": "text/x-python",
   "name": "python",
   "nbconvert_exporter": "python",
   "pygments_lexer": "ipython3",
   "version": "3.12.2"
  }
 },
 "nbformat": 4,
 "nbformat_minor": 5
}
